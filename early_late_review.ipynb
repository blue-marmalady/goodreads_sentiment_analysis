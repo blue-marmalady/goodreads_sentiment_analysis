{
 "cells": [
  {
   "cell_type": "code",
   "execution_count": 1,
   "metadata": {},
   "outputs": [],
   "source": [
    "import pandas as pd\n",
    "import numpy as np\n",
    "import seaborn as sns\n",
    "import matplotlib.pyplot as plt\n",
    "\n",
    "from tqdm import tqdm\n",
    "tqdm.pandas()\n",
    "\n",
    "from sklearn.preprocessing import StandardScaler, MinMaxScaler\n",
    "\n",
    "from scipy.stats import kstest, wilcoxon"
   ]
  },
  {
   "cell_type": "code",
   "execution_count": 16,
   "metadata": {},
   "outputs": [],
   "source": [
    "pd.options.display.max_columns = None"
   ]
  },
  {
   "cell_type": "code",
   "execution_count": null,
   "metadata": {},
   "outputs": [],
   "source": [
    "# Let's take a closer look at the six month mark - thus, drop all the other time categories"
   ]
  },
  {
   "cell_type": "code",
   "execution_count": 3,
   "metadata": {},
   "outputs": [],
   "source": [
    "df = pd.read_csv(r'D:\\Programming\\LHL-data-notes\\Final\\data\\collapsed.csv')"
   ]
  },
  {
   "cell_type": "code",
   "execution_count": 31,
   "metadata": {},
   "outputs": [
    {
     "data": {
      "text/html": [
       "<div>\n",
       "<style scoped>\n",
       "    .dataframe tbody tr th:only-of-type {\n",
       "        vertical-align: middle;\n",
       "    }\n",
       "\n",
       "    .dataframe tbody tr th {\n",
       "        vertical-align: top;\n",
       "    }\n",
       "\n",
       "    .dataframe thead th {\n",
       "        text-align: right;\n",
       "    }\n",
       "</style>\n",
       "<table border=\"1\" class=\"dataframe\">\n",
       "  <thead>\n",
       "    <tr style=\"text-align: right;\">\n",
       "      <th></th>\n",
       "      <th>Unnamed: 0.1</th>\n",
       "      <th>book_id</th>\n",
       "      <th>Unnamed: 0</th>\n",
       "      <th>rating</th>\n",
       "      <th>text_reviews_count</th>\n",
       "      <th>original_publication_year</th>\n",
       "      <th>ratings_count</th>\n",
       "      <th>month_diff</th>\n",
       "      <th>time_cat</th>\n",
       "      <th>BERT_sent</th>\n",
       "      <th>overall_rating</th>\n",
       "      <th>over_6m_BERT</th>\n",
       "      <th>over1y_BERT</th>\n",
       "      <th>6m_BERT</th>\n",
       "      <th>1y_BERT</th>\n",
       "      <th>6m_rating</th>\n",
       "      <th>1y_rating</th>\n",
       "      <th>over_6m_rating</th>\n",
       "      <th>over1y_rating</th>\n",
       "    </tr>\n",
       "  </thead>\n",
       "  <tbody>\n",
       "    <tr>\n",
       "      <th>34</th>\n",
       "      <td>34</td>\n",
       "      <td>5453</td>\n",
       "      <td>840523.091633</td>\n",
       "      <td>3.553785</td>\n",
       "      <td>1713.0</td>\n",
       "      <td>2007.0</td>\n",
       "      <td>61106.0</td>\n",
       "      <td>60.860558</td>\n",
       "      <td>20.846614</td>\n",
       "      <td>0.788842</td>\n",
       "      <td>3.802278</td>\n",
       "      <td>0.788259</td>\n",
       "      <td>0.783401</td>\n",
       "      <td>0.934501</td>\n",
       "      <td>0.851687</td>\n",
       "      <td>3.0</td>\n",
       "      <td>3.150000</td>\n",
       "      <td>3.556000</td>\n",
       "      <td>3.588745</td>\n",
       "    </tr>\n",
       "    <tr>\n",
       "      <th>238</th>\n",
       "      <td>238</td>\n",
       "      <td>23229</td>\n",
       "      <td>613195.700000</td>\n",
       "      <td>2.800000</td>\n",
       "      <td>25.0</td>\n",
       "      <td>2007.0</td>\n",
       "      <td>215.0</td>\n",
       "      <td>49.800000</td>\n",
       "      <td>24.650000</td>\n",
       "      <td>0.711786</td>\n",
       "      <td>3.627907</td>\n",
       "      <td>0.696401</td>\n",
       "      <td>0.753227</td>\n",
       "      <td>0.850256</td>\n",
       "      <td>0.546024</td>\n",
       "      <td>2.0</td>\n",
       "      <td>3.000000</td>\n",
       "      <td>2.888889</td>\n",
       "      <td>2.750000</td>\n",
       "    </tr>\n",
       "    <tr>\n",
       "      <th>247</th>\n",
       "      <td>247</td>\n",
       "      <td>23242</td>\n",
       "      <td>858167.666667</td>\n",
       "      <td>3.407407</td>\n",
       "      <td>82.0</td>\n",
       "      <td>2007.0</td>\n",
       "      <td>882.0</td>\n",
       "      <td>44.370370</td>\n",
       "      <td>5.611111</td>\n",
       "      <td>0.660442</td>\n",
       "      <td>3.552154</td>\n",
       "      <td>0.649224</td>\n",
       "      <td>0.649224</td>\n",
       "      <td>0.952110</td>\n",
       "      <td>0.952110</td>\n",
       "      <td>2.0</td>\n",
       "      <td>2.000000</td>\n",
       "      <td>3.461538</td>\n",
       "      <td>3.461538</td>\n",
       "    </tr>\n",
       "    <tr>\n",
       "      <th>268</th>\n",
       "      <td>268</td>\n",
       "      <td>24880</td>\n",
       "      <td>822349.923077</td>\n",
       "      <td>2.846154</td>\n",
       "      <td>91.0</td>\n",
       "      <td>2006.0</td>\n",
       "      <td>554.0</td>\n",
       "      <td>71.153846</td>\n",
       "      <td>8.115385</td>\n",
       "      <td>0.555822</td>\n",
       "      <td>3.487365</td>\n",
       "      <td>0.522164</td>\n",
       "      <td>0.522164</td>\n",
       "      <td>0.959720</td>\n",
       "      <td>0.959720</td>\n",
       "      <td>3.0</td>\n",
       "      <td>3.000000</td>\n",
       "      <td>2.833333</td>\n",
       "      <td>2.833333</td>\n",
       "    </tr>\n",
       "    <tr>\n",
       "      <th>335</th>\n",
       "      <td>335</td>\n",
       "      <td>30183</td>\n",
       "      <td>864761.157046</td>\n",
       "      <td>3.160441</td>\n",
       "      <td>13023.0</td>\n",
       "      <td>2007.0</td>\n",
       "      <td>376023.0</td>\n",
       "      <td>64.584041</td>\n",
       "      <td>13.006154</td>\n",
       "      <td>0.626901</td>\n",
       "      <td>3.788476</td>\n",
       "      <td>0.627004</td>\n",
       "      <td>0.626180</td>\n",
       "      <td>0.384349</td>\n",
       "      <td>0.707163</td>\n",
       "      <td>5.0</td>\n",
       "      <td>3.666667</td>\n",
       "      <td>3.159660</td>\n",
       "      <td>3.155889</td>\n",
       "    </tr>\n",
       "  </tbody>\n",
       "</table>\n",
       "</div>"
      ],
      "text/plain": [
       "     Unnamed: 0.1  book_id     Unnamed: 0    rating  text_reviews_count  \\\n",
       "34             34     5453  840523.091633  3.553785              1713.0   \n",
       "238           238    23229  613195.700000  2.800000                25.0   \n",
       "247           247    23242  858167.666667  3.407407                82.0   \n",
       "268           268    24880  822349.923077  2.846154                91.0   \n",
       "335           335    30183  864761.157046  3.160441             13023.0   \n",
       "\n",
       "     original_publication_year  ratings_count  month_diff   time_cat  \\\n",
       "34                      2007.0        61106.0   60.860558  20.846614   \n",
       "238                     2007.0          215.0   49.800000  24.650000   \n",
       "247                     2007.0          882.0   44.370370   5.611111   \n",
       "268                     2006.0          554.0   71.153846   8.115385   \n",
       "335                     2007.0       376023.0   64.584041  13.006154   \n",
       "\n",
       "     BERT_sent  overall_rating  over_6m_BERT  over1y_BERT   6m_BERT   1y_BERT  \\\n",
       "34    0.788842        3.802278      0.788259     0.783401  0.934501  0.851687   \n",
       "238   0.711786        3.627907      0.696401     0.753227  0.850256  0.546024   \n",
       "247   0.660442        3.552154      0.649224     0.649224  0.952110  0.952110   \n",
       "268   0.555822        3.487365      0.522164     0.522164  0.959720  0.959720   \n",
       "335   0.626901        3.788476      0.627004     0.626180  0.384349  0.707163   \n",
       "\n",
       "     6m_rating  1y_rating  over_6m_rating  over1y_rating  \n",
       "34         3.0   3.150000        3.556000       3.588745  \n",
       "238        2.0   3.000000        2.888889       2.750000  \n",
       "247        2.0   2.000000        3.461538       3.461538  \n",
       "268        3.0   3.000000        2.833333       2.833333  \n",
       "335        5.0   3.666667        3.159660       3.155889  "
      ]
     },
     "execution_count": 31,
     "metadata": {},
     "output_type": "execute_result"
    }
   ],
   "source": [
    "df.head()"
   ]
  },
  {
   "cell_type": "code",
   "execution_count": 4,
   "metadata": {},
   "outputs": [],
   "source": [
    "df = df.dropna(subset = ['6m_BERT'])"
   ]
  },
  {
   "cell_type": "code",
   "execution_count": 5,
   "metadata": {},
   "outputs": [
    {
     "data": {
      "text/plain": [
       "Unnamed: 0.1                     0\n",
       "book_id                          0\n",
       "Unnamed: 0                       0\n",
       "rating                           0\n",
       "text_reviews_count               0\n",
       "original_publication_year        0\n",
       "ratings_count                    0\n",
       "month_diff                       0\n",
       "time_cat                         0\n",
       "BERT_sent                        0\n",
       "overall_rating                   0\n",
       "over_3m_BERT                 15891\n",
       "over_6m_BERT                 24642\n",
       "over1y_BERT                  35963\n",
       "3m_BERT                      10680\n",
       "6m_BERT                          0\n",
       "1y_BERT                          0\n",
       "3m_rating                    10680\n",
       "6m_rating                        0\n",
       "1y_rating                        0\n",
       "over_3m_rating               15891\n",
       "over_6m_rating               24642\n",
       "over1y_rating                35963\n",
       "dtype: int64"
      ]
     },
     "execution_count": 5,
     "metadata": {},
     "output_type": "execute_result"
    }
   ],
   "source": [
    "df.isnull().sum()"
   ]
  },
  {
   "cell_type": "code",
   "execution_count": 6,
   "metadata": {},
   "outputs": [],
   "source": [
    "df = df.dropna(subset = ['over_6m_BERT'])"
   ]
  },
  {
   "cell_type": "code",
   "execution_count": 7,
   "metadata": {},
   "outputs": [
    {
     "data": {
      "text/plain": [
       "Unnamed: 0.1                     0\n",
       "book_id                          0\n",
       "Unnamed: 0                       0\n",
       "rating                           0\n",
       "text_reviews_count               0\n",
       "original_publication_year        0\n",
       "ratings_count                    0\n",
       "month_diff                       0\n",
       "time_cat                         0\n",
       "BERT_sent                        0\n",
       "overall_rating                   0\n",
       "over_3m_BERT                     0\n",
       "over_6m_BERT                     0\n",
       "over1y_BERT                  11321\n",
       "3m_BERT                       8239\n",
       "6m_BERT                          0\n",
       "1y_BERT                          0\n",
       "3m_rating                     8239\n",
       "6m_rating                        0\n",
       "1y_rating                        0\n",
       "over_3m_rating                   0\n",
       "over_6m_rating                   0\n",
       "over1y_rating                11321\n",
       "dtype: int64"
      ]
     },
     "execution_count": 7,
     "metadata": {},
     "output_type": "execute_result"
    }
   ],
   "source": [
    "df.isnull().sum()"
   ]
  },
  {
   "cell_type": "code",
   "execution_count": 8,
   "metadata": {},
   "outputs": [],
   "source": [
    "df.drop(['3m_BERT','over_3m_BERT','3m_rating','over_3m_rating'], axis=1, inplace=True)\n"
   ]
  },
  {
   "cell_type": "code",
   "execution_count": 42,
   "metadata": {},
   "outputs": [
    {
     "data": {
      "text/plain": [
       "book_id                          0\n",
       "Unnamed: 0                       0\n",
       "rating                           0\n",
       "text_reviews_count               0\n",
       "original_publication_year        0\n",
       "ratings_count                    0\n",
       "month_diff                       0\n",
       "time_cat                         0\n",
       "BERT_sent                        0\n",
       "overall_rating                   0\n",
       "over_6m_BERT                     0\n",
       "over1y_BERT                  11321\n",
       "6m_BERT                          0\n",
       "1y_BERT                          0\n",
       "6m_rating                        0\n",
       "1y_rating                        0\n",
       "over_6m_rating                   0\n",
       "over1y_rating                11321\n",
       "dtype: int64"
      ]
     },
     "execution_count": 42,
     "metadata": {},
     "output_type": "execute_result"
    }
   ],
   "source": [
    "df.isnull().sum()"
   ]
  },
  {
   "cell_type": "code",
   "execution_count": 9,
   "metadata": {},
   "outputs": [],
   "source": [
    "# See if reviews up to 6mos after publication are different from reviews after 6mos\n",
    "df_sent_change = df[['6m_BERT','over_6m_BERT']]"
   ]
  },
  {
   "cell_type": "code",
   "execution_count": 14,
   "metadata": {},
   "outputs": [],
   "source": [
    "scaler = StandardScaler()\n",
    "scaler.fit(df_sent_change)\n",
    "rs_compare = scaler.transform(df_sent_change)"
   ]
  },
  {
   "cell_type": "code",
   "execution_count": 15,
   "metadata": {},
   "outputs": [],
   "source": [
    "scaled_sent_change = pd.DataFrame(rs_compare, index=df_sent_change.index, columns=df_sent_change.columns)"
   ]
  },
  {
   "cell_type": "code",
   "execution_count": 16,
   "metadata": {},
   "outputs": [
    {
     "name": "stdout",
     "output_type": "stream",
     "text": [
      "0.0717912218812759 0.0\n",
      "0.061345308199685755 5.041549438865886e-249\n"
     ]
    }
   ],
   "source": [
    "# Should we do a paired t-test(need normal-ish distribution) or a Wilcoxin sign rank?\n",
    "# Check for normality\n",
    "\n",
    "ks_statistic, p_value = kstest(scaled_sent_change['6m_BERT'], 'norm')\n",
    "print(ks_statistic, p_value)\n",
    "\n",
    "ks_statistic2, p_value2 = kstest(scaled_sent_change['over_6m_BERT'], 'norm')\n",
    "print(ks_statistic2, p_value2)"
   ]
  },
  {
   "cell_type": "code",
   "execution_count": 17,
   "metadata": {},
   "outputs": [
    {
     "data": {
      "text/plain": [
       "WilcoxonResult(statistic=1432519742.0, pvalue=0.07067852425747644)"
      ]
     },
     "execution_count": 17,
     "metadata": {},
     "output_type": "execute_result"
    }
   ],
   "source": [
    "# Definitely not normally distributed! Let's use the wilcoxen sign ranked\n",
    "wilcoxon(x=scaled_sent_change['6m_BERT'], y=scaled_sent_change['over_6m_BERT'], zero_method='wilcox', correction=False)"
   ]
  },
  {
   "cell_type": "code",
   "execution_count": 72,
   "metadata": {},
   "outputs": [],
   "source": [
    "# pvalue=0.07067852425747644\n",
    "# So that's not 0.05, but it's pretty damn close. I'd say it's close enough."
   ]
  },
  {
   "cell_type": "code",
   "execution_count": 22,
   "metadata": {},
   "outputs": [],
   "source": [
    "import numpy as np\n",
    "from sklearn.linear_model import LinearRegression"
   ]
  },
  {
   "cell_type": "code",
   "execution_count": 23,
   "metadata": {},
   "outputs": [],
   "source": [
    "X = df_sent_change.iloc[:, 0].values.reshape(-1, 1)\n",
    "Y = df_sent_change.iloc[:, 1].values.reshape(-1, 1)"
   ]
  },
  {
   "cell_type": "code",
   "execution_count": 24,
   "metadata": {},
   "outputs": [],
   "source": [
    "model = LinearRegression()"
   ]
  },
  {
   "cell_type": "code",
   "execution_count": 25,
   "metadata": {},
   "outputs": [
    {
     "data": {
      "text/plain": [
       "LinearRegression()"
      ]
     },
     "execution_count": 25,
     "metadata": {},
     "output_type": "execute_result"
    }
   ],
   "source": [
    "model.fit(X, Y)"
   ]
  },
  {
   "cell_type": "code",
   "execution_count": 26,
   "metadata": {},
   "outputs": [],
   "source": [
    "Y_pred = model.predict(X)"
   ]
  },
  {
   "cell_type": "code",
   "execution_count": 27,
   "metadata": {},
   "outputs": [
    {
     "data": {
      "image/png": "[encoded data removed]",
      "text/plain": [
       "<Figure size 432x288 with 1 Axes>"
      ]
     },
     "metadata": {
      "needs_background": "light"
     },
     "output_type": "display_data"
    }
   ],
   "source": [
    "plt.scatter(X, Y)\n",
    "plt.plot(X, Y_pred, color='red')\n",
    "plt.show()"
   ]
  },
  {
   "cell_type": "code",
   "execution_count": 28,
   "metadata": {},
   "outputs": [],
   "source": [
    "import scipy.stats"
   ]
  },
  {
   "cell_type": "code",
   "execution_count": 30,
   "metadata": {},
   "outputs": [
    {
     "data": {
      "text/plain": [
       "(0.27701136339898935, 0.0)"
      ]
     },
     "execution_count": 30,
     "metadata": {},
     "output_type": "execute_result"
    }
   ],
   "source": [
    "scipy.stats.pearsonr(x=df_sent_change['6m_BERT'], y=df_sent_change['over_6m_BERT'])"
   ]
  },
  {
   "cell_type": "code",
   "execution_count": null,
   "metadata": {},
   "outputs": [],
   "source": []
  }
 ],
 "metadata": {
  "kernelspec": {
   "display_name": "Python 3.9.12 ('base')",
   "language": "python",
   "name": "python3"
  },
  "language_info": {
   "codemirror_mode": {
    "name": "ipython",
    "version": 3
   },
   "file_extension": ".py",
   "mimetype": "text/x-python",
   "name": "python",
   "nbconvert_exporter": "python",
   "pygments_lexer": "ipython3",
   "version": "3.9.12"
  },
  "orig_nbformat": 4,
  "vscode": {
   "interpreter": {
    "hash": "dc07d24e2f18896857f0b2a651fe84ba40ce7b297e58d8804a308c8039f752a6"
   }
  }
 },
 "nbformat": 4,
 "nbformat_minor": 2
}
