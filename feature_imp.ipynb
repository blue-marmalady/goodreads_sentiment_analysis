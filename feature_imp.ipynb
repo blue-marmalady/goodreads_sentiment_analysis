{
 "cells": [
  {
   "cell_type": "code",
   "execution_count": 7,
   "metadata": {},
   "outputs": [],
   "source": [
    "import numpy as np\n",
    "import pandas as pd\n",
    "from sklearn.ensemble import RandomForestClassifier\n",
    "from sklearn import datasets\n",
    "from sklearn.model_selection import train_test_split\n",
    "from sklearn.feature_selection import SelectFromModel\n",
    "from sklearn.metrics import accuracy_score\n",
    "import seaborn as sns"
   ]
  },
  {
   "cell_type": "code",
   "execution_count": 79,
   "metadata": {},
   "outputs": [],
   "source": [
    "df = pd.read_csv(r'D:\\Programming\\LHL-data-notes\\Final\\data\\collapsed.csv')"
   ]
  },
  {
   "cell_type": "code",
   "execution_count": null,
   "metadata": {},
   "outputs": [],
   "source": [
    "# Using the number of ratings as an approximation of popularity, \n",
    "# let's see which feature is the best predictor of the number of rating a book will recieve."
   ]
  },
  {
   "cell_type": "code",
   "execution_count": 47,
   "metadata": {},
   "outputs": [],
   "source": [
    "pd.options.display.max_columns = None"
   ]
  },
  {
   "cell_type": "code",
   "execution_count": 48,
   "metadata": {},
   "outputs": [
    {
     "data": {
      "text/html": [
       "<div>\n",
       "<style scoped>\n",
       "    .dataframe tbody tr th:only-of-type {\n",
       "        vertical-align: middle;\n",
       "    }\n",
       "\n",
       "    .dataframe tbody tr th {\n",
       "        vertical-align: top;\n",
       "    }\n",
       "\n",
       "    .dataframe thead th {\n",
       "        text-align: right;\n",
       "    }\n",
       "</style>\n",
       "<table border=\"1\" class=\"dataframe\">\n",
       "  <thead>\n",
       "    <tr style=\"text-align: right;\">\n",
       "      <th></th>\n",
       "      <th>Unnamed: 0.1</th>\n",
       "      <th>book_id</th>\n",
       "      <th>Unnamed: 0</th>\n",
       "      <th>rating</th>\n",
       "      <th>text_reviews_count</th>\n",
       "      <th>original_publication_year</th>\n",
       "      <th>ratings_count</th>\n",
       "      <th>month_diff</th>\n",
       "      <th>time_cat</th>\n",
       "      <th>BERT_sent</th>\n",
       "      <th>overall_rating</th>\n",
       "      <th>over_3m_BERT</th>\n",
       "      <th>over_6m_BERT</th>\n",
       "      <th>over1y_BERT</th>\n",
       "      <th>3m_BERT</th>\n",
       "      <th>6m_BERT</th>\n",
       "      <th>1y_BERT</th>\n",
       "      <th>3m_rating</th>\n",
       "      <th>6m_rating</th>\n",
       "      <th>1y_rating</th>\n",
       "      <th>over_3m_rating</th>\n",
       "      <th>over_6m_rating</th>\n",
       "      <th>over1y_rating</th>\n",
       "    </tr>\n",
       "  </thead>\n",
       "  <tbody>\n",
       "    <tr>\n",
       "      <th>0</th>\n",
       "      <td>0</td>\n",
       "      <td>50</td>\n",
       "      <td>8.940140e+05</td>\n",
       "      <td>3.580645</td>\n",
       "      <td>10771.0</td>\n",
       "      <td>1986.0</td>\n",
       "      <td>238317.0</td>\n",
       "      <td>319.383226</td>\n",
       "      <td>200.000000</td>\n",
       "      <td>0.782367</td>\n",
       "      <td>3.681370</td>\n",
       "      <td>0.782367</td>\n",
       "      <td>0.782367</td>\n",
       "      <td>0.782367</td>\n",
       "      <td>NaN</td>\n",
       "      <td>NaN</td>\n",
       "      <td>NaN</td>\n",
       "      <td>NaN</td>\n",
       "      <td>NaN</td>\n",
       "      <td>NaN</td>\n",
       "      <td>3.580645</td>\n",
       "      <td>3.580645</td>\n",
       "      <td>3.580645</td>\n",
       "    </tr>\n",
       "    <tr>\n",
       "      <th>1</th>\n",
       "      <td>1</td>\n",
       "      <td>57</td>\n",
       "      <td>2.727244e+06</td>\n",
       "      <td>2.000000</td>\n",
       "      <td>4.0</td>\n",
       "      <td>2005.0</td>\n",
       "      <td>160.0</td>\n",
       "      <td>59.666667</td>\n",
       "      <td>7.333333</td>\n",
       "      <td>0.598914</td>\n",
       "      <td>3.737500</td>\n",
       "      <td>0.598914</td>\n",
       "      <td>0.598914</td>\n",
       "      <td>0.598914</td>\n",
       "      <td>NaN</td>\n",
       "      <td>NaN</td>\n",
       "      <td>NaN</td>\n",
       "      <td>NaN</td>\n",
       "      <td>NaN</td>\n",
       "      <td>NaN</td>\n",
       "      <td>2.000000</td>\n",
       "      <td>2.000000</td>\n",
       "      <td>2.000000</td>\n",
       "    </tr>\n",
       "    <tr>\n",
       "      <th>2</th>\n",
       "      <td>2</td>\n",
       "      <td>511</td>\n",
       "      <td>3.280334e+06</td>\n",
       "      <td>3.400000</td>\n",
       "      <td>15.0</td>\n",
       "      <td>2006.0</td>\n",
       "      <td>471.0</td>\n",
       "      <td>73.000000</td>\n",
       "      <td>45.000000</td>\n",
       "      <td>0.871135</td>\n",
       "      <td>3.774947</td>\n",
       "      <td>0.871135</td>\n",
       "      <td>0.871135</td>\n",
       "      <td>0.871135</td>\n",
       "      <td>NaN</td>\n",
       "      <td>NaN</td>\n",
       "      <td>NaN</td>\n",
       "      <td>NaN</td>\n",
       "      <td>NaN</td>\n",
       "      <td>NaN</td>\n",
       "      <td>3.400000</td>\n",
       "      <td>3.400000</td>\n",
       "      <td>3.400000</td>\n",
       "    </tr>\n",
       "    <tr>\n",
       "      <th>3</th>\n",
       "      <td>3</td>\n",
       "      <td>760</td>\n",
       "      <td>3.042359e+06</td>\n",
       "      <td>3.491848</td>\n",
       "      <td>3140.0</td>\n",
       "      <td>2004.0</td>\n",
       "      <td>51676.0</td>\n",
       "      <td>105.086957</td>\n",
       "      <td>79.538043</td>\n",
       "      <td>0.736976</td>\n",
       "      <td>3.586868</td>\n",
       "      <td>0.736976</td>\n",
       "      <td>0.736976</td>\n",
       "      <td>0.736976</td>\n",
       "      <td>NaN</td>\n",
       "      <td>NaN</td>\n",
       "      <td>NaN</td>\n",
       "      <td>NaN</td>\n",
       "      <td>NaN</td>\n",
       "      <td>NaN</td>\n",
       "      <td>3.491848</td>\n",
       "      <td>3.491848</td>\n",
       "      <td>3.491848</td>\n",
       "    </tr>\n",
       "    <tr>\n",
       "      <th>4</th>\n",
       "      <td>4</td>\n",
       "      <td>852</td>\n",
       "      <td>2.075330e+06</td>\n",
       "      <td>0.000000</td>\n",
       "      <td>8.0</td>\n",
       "      <td>2005.0</td>\n",
       "      <td>27.0</td>\n",
       "      <td>56.000000</td>\n",
       "      <td>7.500000</td>\n",
       "      <td>0.540319</td>\n",
       "      <td>3.740741</td>\n",
       "      <td>0.540319</td>\n",
       "      <td>0.540319</td>\n",
       "      <td>0.540319</td>\n",
       "      <td>NaN</td>\n",
       "      <td>NaN</td>\n",
       "      <td>NaN</td>\n",
       "      <td>NaN</td>\n",
       "      <td>NaN</td>\n",
       "      <td>NaN</td>\n",
       "      <td>0.000000</td>\n",
       "      <td>0.000000</td>\n",
       "      <td>0.000000</td>\n",
       "    </tr>\n",
       "  </tbody>\n",
       "</table>\n",
       "</div>"
      ],
      "text/plain": [
       "   Unnamed: 0.1  book_id    Unnamed: 0    rating  text_reviews_count  \\\n",
       "0             0       50  8.940140e+05  3.580645             10771.0   \n",
       "1             1       57  2.727244e+06  2.000000                 4.0   \n",
       "2             2      511  3.280334e+06  3.400000                15.0   \n",
       "3             3      760  3.042359e+06  3.491848              3140.0   \n",
       "4             4      852  2.075330e+06  0.000000                 8.0   \n",
       "\n",
       "   original_publication_year  ratings_count  month_diff    time_cat  \\\n",
       "0                     1986.0       238317.0  319.383226  200.000000   \n",
       "1                     2005.0          160.0   59.666667    7.333333   \n",
       "2                     2006.0          471.0   73.000000   45.000000   \n",
       "3                     2004.0        51676.0  105.086957   79.538043   \n",
       "4                     2005.0           27.0   56.000000    7.500000   \n",
       "\n",
       "   BERT_sent  overall_rating  over_3m_BERT  over_6m_BERT  over1y_BERT  \\\n",
       "0   0.782367        3.681370      0.782367      0.782367     0.782367   \n",
       "1   0.598914        3.737500      0.598914      0.598914     0.598914   \n",
       "2   0.871135        3.774947      0.871135      0.871135     0.871135   \n",
       "3   0.736976        3.586868      0.736976      0.736976     0.736976   \n",
       "4   0.540319        3.740741      0.540319      0.540319     0.540319   \n",
       "\n",
       "   3m_BERT  6m_BERT  1y_BERT  3m_rating  6m_rating  1y_rating  over_3m_rating  \\\n",
       "0      NaN      NaN      NaN        NaN        NaN        NaN        3.580645   \n",
       "1      NaN      NaN      NaN        NaN        NaN        NaN        2.000000   \n",
       "2      NaN      NaN      NaN        NaN        NaN        NaN        3.400000   \n",
       "3      NaN      NaN      NaN        NaN        NaN        NaN        3.491848   \n",
       "4      NaN      NaN      NaN        NaN        NaN        NaN        0.000000   \n",
       "\n",
       "   over_6m_rating  over1y_rating  \n",
       "0        3.580645       3.580645  \n",
       "1        2.000000       2.000000  \n",
       "2        3.400000       3.400000  \n",
       "3        3.491848       3.491848  \n",
       "4        0.000000       0.000000  "
      ]
     },
     "execution_count": 48,
     "metadata": {},
     "output_type": "execute_result"
    }
   ],
   "source": [
    "df.head()"
   ]
  },
  {
   "cell_type": "code",
   "execution_count": 80,
   "metadata": {},
   "outputs": [],
   "source": [
    "df.drop(['Unnamed: 0.1','book_id','Unnamed: 0','text_reviews_count','original_publication_year','month_diff','time_cat','overall_rating'], axis=1, inplace=True)"
   ]
  },
  {
   "cell_type": "code",
   "execution_count": 100,
   "metadata": {},
   "outputs": [
    {
     "data": {
      "text/plain": [
       "count    4.381200e+04\n",
       "mean     3.115085e+03\n",
       "std      3.637517e+04\n",
       "min      1.000000e+02\n",
       "25%      2.000000e+02\n",
       "50%      5.000000e+02\n",
       "75%      1.400000e+03\n",
       "max      5.066600e+06\n",
       "Name: rating_count_round, dtype: float64"
      ]
     },
     "execution_count": 100,
     "metadata": {},
     "output_type": "execute_result"
    }
   ],
   "source": [
    "y.describe()"
   ]
  },
  {
   "cell_type": "code",
   "execution_count": 13,
   "metadata": {},
   "outputs": [
    {
     "name": "stderr",
     "output_type": "stream",
     "text": [
      "c:\\Users\\HP\\anaconda3\\lib\\site-packages\\seaborn\\distributions.py:2619: FutureWarning: `distplot` is a deprecated function and will be removed in a future version. Please adapt your code to use either `displot` (a figure-level function with similar flexibility) or `histplot` (an axes-level function for histograms).\n",
      "  warnings.warn(msg, FutureWarning)\n",
      "c:\\Users\\HP\\anaconda3\\lib\\site-packages\\seaborn\\distributions.py:2103: FutureWarning: The `axis` variable is no longer used and will be removed. Instead, assign variables directly to `x` or `y`.\n",
      "  warnings.warn(msg, FutureWarning)\n"
     ]
    },
    {
     "data": {
      "text/plain": [
       "Text(0.5, 1.0, 'Sentiment distribution')"
      ]
     },
     "execution_count": 13,
     "metadata": {},
     "output_type": "execute_result"
    },
    {
     "data": {
      "image/png": "[encoded data removed]",
      "text/plain": [
       "<Figure size 432x288 with 1 Axes>"
      ]
     },
     "metadata": {
      "needs_background": "light"
     },
     "output_type": "display_data"
    }
   ],
   "source": [
    "sns.distplot(df.ratings_count,rug=True).set_title('Sentiment distribution')"
   ]
  },
  {
   "cell_type": "code",
   "execution_count": 81,
   "metadata": {},
   "outputs": [],
   "source": [
    "df = df.drop(df[df.ratings_count < 100].index)"
   ]
  },
  {
   "cell_type": "code",
   "execution_count": 82,
   "metadata": {},
   "outputs": [],
   "source": [
    "df['rating_count_round'] = df.ratings_count.round(decimals=-2)"
   ]
  },
  {
   "cell_type": "code",
   "execution_count": 52,
   "metadata": {},
   "outputs": [],
   "source": [
    "df.drop(['3m_BERT','over_3m_BERT','3m_rating','over_3m_rating'], axis=1, inplace=True)"
   ]
  },
  {
   "cell_type": "code",
   "execution_count": 20,
   "metadata": {},
   "outputs": [],
   "source": [
    "df.drop(['1y_BERT','1y_rating','over1y_BERT','over1y_rating'], axis=1, inplace=True)"
   ]
  },
  {
   "cell_type": "code",
   "execution_count": 34,
   "metadata": {},
   "outputs": [
    {
     "data": {
      "text/html": [
       "<div>\n",
       "<style scoped>\n",
       "    .dataframe tbody tr th:only-of-type {\n",
       "        vertical-align: middle;\n",
       "    }\n",
       "\n",
       "    .dataframe tbody tr th {\n",
       "        vertical-align: top;\n",
       "    }\n",
       "\n",
       "    .dataframe thead th {\n",
       "        text-align: right;\n",
       "    }\n",
       "</style>\n",
       "<table border=\"1\" class=\"dataframe\">\n",
       "  <thead>\n",
       "    <tr style=\"text-align: right;\">\n",
       "      <th></th>\n",
       "      <th>rating</th>\n",
       "      <th>ratings_count</th>\n",
       "      <th>BERT_sent</th>\n",
       "      <th>overall_rating</th>\n",
       "      <th>over_3m_BERT</th>\n",
       "      <th>over_6m_BERT</th>\n",
       "      <th>over1y_BERT</th>\n",
       "      <th>3m_BERT</th>\n",
       "      <th>6m_BERT</th>\n",
       "      <th>1y_BERT</th>\n",
       "      <th>3m_rating</th>\n",
       "      <th>6m_rating</th>\n",
       "      <th>1y_rating</th>\n",
       "      <th>over_3m_rating</th>\n",
       "      <th>over_6m_rating</th>\n",
       "      <th>over1y_rating</th>\n",
       "    </tr>\n",
       "  </thead>\n",
       "  <tbody>\n",
       "    <tr>\n",
       "      <th>0</th>\n",
       "      <td>3.580645</td>\n",
       "      <td>238317.0</td>\n",
       "      <td>0.782367</td>\n",
       "      <td>3.681370</td>\n",
       "      <td>0.782367</td>\n",
       "      <td>0.782367</td>\n",
       "      <td>0.782367</td>\n",
       "      <td>NaN</td>\n",
       "      <td>NaN</td>\n",
       "      <td>NaN</td>\n",
       "      <td>NaN</td>\n",
       "      <td>NaN</td>\n",
       "      <td>NaN</td>\n",
       "      <td>3.580645</td>\n",
       "      <td>3.580645</td>\n",
       "      <td>3.580645</td>\n",
       "    </tr>\n",
       "    <tr>\n",
       "      <th>1</th>\n",
       "      <td>2.000000</td>\n",
       "      <td>160.0</td>\n",
       "      <td>0.598914</td>\n",
       "      <td>3.737500</td>\n",
       "      <td>0.598914</td>\n",
       "      <td>0.598914</td>\n",
       "      <td>0.598914</td>\n",
       "      <td>NaN</td>\n",
       "      <td>NaN</td>\n",
       "      <td>NaN</td>\n",
       "      <td>NaN</td>\n",
       "      <td>NaN</td>\n",
       "      <td>NaN</td>\n",
       "      <td>2.000000</td>\n",
       "      <td>2.000000</td>\n",
       "      <td>2.000000</td>\n",
       "    </tr>\n",
       "    <tr>\n",
       "      <th>2</th>\n",
       "      <td>3.400000</td>\n",
       "      <td>471.0</td>\n",
       "      <td>0.871135</td>\n",
       "      <td>3.774947</td>\n",
       "      <td>0.871135</td>\n",
       "      <td>0.871135</td>\n",
       "      <td>0.871135</td>\n",
       "      <td>NaN</td>\n",
       "      <td>NaN</td>\n",
       "      <td>NaN</td>\n",
       "      <td>NaN</td>\n",
       "      <td>NaN</td>\n",
       "      <td>NaN</td>\n",
       "      <td>3.400000</td>\n",
       "      <td>3.400000</td>\n",
       "      <td>3.400000</td>\n",
       "    </tr>\n",
       "    <tr>\n",
       "      <th>3</th>\n",
       "      <td>3.491848</td>\n",
       "      <td>51676.0</td>\n",
       "      <td>0.736976</td>\n",
       "      <td>3.586868</td>\n",
       "      <td>0.736976</td>\n",
       "      <td>0.736976</td>\n",
       "      <td>0.736976</td>\n",
       "      <td>NaN</td>\n",
       "      <td>NaN</td>\n",
       "      <td>NaN</td>\n",
       "      <td>NaN</td>\n",
       "      <td>NaN</td>\n",
       "      <td>NaN</td>\n",
       "      <td>3.491848</td>\n",
       "      <td>3.491848</td>\n",
       "      <td>3.491848</td>\n",
       "    </tr>\n",
       "    <tr>\n",
       "      <th>4</th>\n",
       "      <td>0.000000</td>\n",
       "      <td>27.0</td>\n",
       "      <td>0.540319</td>\n",
       "      <td>3.740741</td>\n",
       "      <td>0.540319</td>\n",
       "      <td>0.540319</td>\n",
       "      <td>0.540319</td>\n",
       "      <td>NaN</td>\n",
       "      <td>NaN</td>\n",
       "      <td>NaN</td>\n",
       "      <td>NaN</td>\n",
       "      <td>NaN</td>\n",
       "      <td>NaN</td>\n",
       "      <td>0.000000</td>\n",
       "      <td>0.000000</td>\n",
       "      <td>0.000000</td>\n",
       "    </tr>\n",
       "  </tbody>\n",
       "</table>\n",
       "</div>"
      ],
      "text/plain": [
       "     rating  ratings_count  BERT_sent  overall_rating  over_3m_BERT  \\\n",
       "0  3.580645       238317.0   0.782367        3.681370      0.782367   \n",
       "1  2.000000          160.0   0.598914        3.737500      0.598914   \n",
       "2  3.400000          471.0   0.871135        3.774947      0.871135   \n",
       "3  3.491848        51676.0   0.736976        3.586868      0.736976   \n",
       "4  0.000000           27.0   0.540319        3.740741      0.540319   \n",
       "\n",
       "   over_6m_BERT  over1y_BERT  3m_BERT  6m_BERT  1y_BERT  3m_rating  6m_rating  \\\n",
       "0      0.782367     0.782367      NaN      NaN      NaN        NaN        NaN   \n",
       "1      0.598914     0.598914      NaN      NaN      NaN        NaN        NaN   \n",
       "2      0.871135     0.871135      NaN      NaN      NaN        NaN        NaN   \n",
       "3      0.736976     0.736976      NaN      NaN      NaN        NaN        NaN   \n",
       "4      0.540319     0.540319      NaN      NaN      NaN        NaN        NaN   \n",
       "\n",
       "   1y_rating  over_3m_rating  over_6m_rating  over1y_rating  \n",
       "0        NaN        3.580645        3.580645       3.580645  \n",
       "1        NaN        2.000000        2.000000       2.000000  \n",
       "2        NaN        3.400000        3.400000       3.400000  \n",
       "3        NaN        3.491848        3.491848       3.491848  \n",
       "4        NaN        0.000000        0.000000       0.000000  "
      ]
     },
     "execution_count": 34,
     "metadata": {},
     "output_type": "execute_result"
    }
   ],
   "source": [
    "df.head()"
   ]
  },
  {
   "cell_type": "code",
   "execution_count": 83,
   "metadata": {},
   "outputs": [],
   "source": [
    "df = df.dropna()"
   ]
  },
  {
   "cell_type": "code",
   "execution_count": 84,
   "metadata": {},
   "outputs": [
    {
     "data": {
      "text/plain": [
       "(43812, 16)"
      ]
     },
     "execution_count": 84,
     "metadata": {},
     "output_type": "execute_result"
    }
   ],
   "source": [
    "df.shape"
   ]
  },
  {
   "cell_type": "code",
   "execution_count": 85,
   "metadata": {},
   "outputs": [],
   "source": [
    "y = df.rating_count_round\n",
    "df.drop(['ratings_count','rating_count_round'],axis=1, inplace=True)\n",
    "X = df"
   ]
  },
  {
   "cell_type": "code",
   "execution_count": 86,
   "metadata": {},
   "outputs": [],
   "source": [
    "feat_labels = ['rating','BERT_sent','over_3m_BERT','over_6m_BERT','over1y_BERT','3m_BERT','6m_BERT','1y_BERT','3m_rating','6m_rating','1y_rating','over_3m_rating','over_6m_rating','over1y_rating']\n"
   ]
  },
  {
   "cell_type": "code",
   "execution_count": 87,
   "metadata": {},
   "outputs": [],
   "source": [
    "# split the data into training and testing sets\n",
    "X_train, X_test, y_train, y_test = train_test_split(X, y, test_size=0.3, random_state=0)"
   ]
  },
  {
   "cell_type": "code",
   "execution_count": 75,
   "metadata": {},
   "outputs": [],
   "source": [
    "# Create a random forest classifier\n",
    "clf = RandomForestClassifier(n_estimators=100, random_state=42)\n",
    "\n"
   ]
  },
  {
   "cell_type": "code",
   "execution_count": 88,
   "metadata": {},
   "outputs": [
    {
     "data": {
      "text/plain": [
       "RandomForestClassifier(random_state=42)"
      ]
     },
     "execution_count": 88,
     "metadata": {},
     "output_type": "execute_result"
    }
   ],
   "source": [
    "# Train the classifier\n",
    "clf.fit(X_train, y_train)\n"
   ]
  },
  {
   "cell_type": "code",
   "execution_count": 98,
   "metadata": {},
   "outputs": [
    {
     "name": "stdout",
     "output_type": "stream",
     "text": [
      "('rating', 7.09)\n",
      "('BERT_sent', 7.6)\n",
      "('over_3m_BERT', 7.91)\n",
      "('over_6m_BERT', 8.02)\n",
      "('over1y_BERT', 8.16)\n",
      "('3m_BERT', 7.73)\n",
      "('6m_BERT', 7.59)\n",
      "('1y_BERT', 7.68)\n",
      "('3m_rating', 6.05)\n",
      "('6m_rating', 6.21)\n",
      "('1y_rating', 6.62)\n",
      "('over_3m_rating', 6.78)\n",
      "('over_6m_rating', 6.46)\n",
      "('over1y_rating', 6.09)\n"
     ]
    }
   ],
   "source": [
    "# Print the name and gini importance of each feature\n",
    "for feature in zip(feat_labels, (clf.feature_importances_*100).round(2)):\n",
    "    print(feature)"
   ]
  },
  {
   "cell_type": "code",
   "execution_count": null,
   "metadata": {},
   "outputs": [],
   "source": []
  }
 ],
 "metadata": {
  "kernelspec": {
   "display_name": "Python 3.9.12 ('base')",
   "language": "python",
   "name": "python3"
  },
  "language_info": {
   "codemirror_mode": {
    "name": "ipython",
    "version": 3
   },
   "file_extension": ".py",
   "mimetype": "text/x-python",
   "name": "python",
   "nbconvert_exporter": "python",
   "pygments_lexer": "ipython3",
   "version": "3.9.12"
  },
  "orig_nbformat": 4,
  "vscode": {
   "interpreter": {
    "hash": "dc07d24e2f18896857f0b2a651fe84ba40ce7b297e58d8804a308c8039f752a6"
   }
  }
 },
 "nbformat": 4,
 "nbformat_minor": 2
}
