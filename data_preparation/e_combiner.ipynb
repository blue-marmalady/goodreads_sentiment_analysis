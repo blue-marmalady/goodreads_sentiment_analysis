{
 "cells": [
  {
   "cell_type": "code",
   "execution_count": 3,
   "metadata": {},
   "outputs": [],
   "source": [
    "import pandas as pd\n",
    "import json\n",
    "import os"
   ]
  },
  {
   "cell_type": "code",
   "execution_count": null,
   "metadata": {},
   "outputs": [],
   "source": [
    "# As my dataframe was too large to process in a single run, \n",
    "# I split it into 41 smaller files, and I recombined them."
   ]
  },
  {
   "cell_type": "code",
   "execution_count": 13,
   "metadata": {},
   "outputs": [
    {
     "name": "stderr",
     "output_type": "stream",
     "text": [
      "C:\\Users\\HP\\AppData\\Local\\Temp\\ipykernel_19984\\3280691649.py:7: DtypeWarning: Columns (16) have mixed types. Specify dtype option on import or set low_memory=False.\n",
      "  df = pd.concat((pd.read_csv(f) for f in all_files), ignore_index=True)\n",
      "C:\\Users\\HP\\AppData\\Local\\Temp\\ipykernel_19984\\3280691649.py:7: DtypeWarning: Columns (16) have mixed types. Specify dtype option on import or set low_memory=False.\n",
      "  df = pd.concat((pd.read_csv(f) for f in all_files), ignore_index=True)\n",
      "C:\\Users\\HP\\AppData\\Local\\Temp\\ipykernel_19984\\3280691649.py:7: DtypeWarning: Columns (16) have mixed types. Specify dtype option on import or set low_memory=False.\n",
      "  df = pd.concat((pd.read_csv(f) for f in all_files), ignore_index=True)\n",
      "C:\\Users\\HP\\AppData\\Local\\Temp\\ipykernel_19984\\3280691649.py:7: DtypeWarning: Columns (16) have mixed types. Specify dtype option on import or set low_memory=False.\n",
      "  df = pd.concat((pd.read_csv(f) for f in all_files), ignore_index=True)\n"
     ]
    }
   ],
   "source": [
    "import pandas as pd\n",
    "import glob\n",
    "\n",
    "path = r'D:\\Programming\\LHL-data-notes\\Final\\datachunksent\\combine' # use your path\n",
    "all_files = glob.glob(os.path.join(path, \"*.csv\"))\n",
    "\n",
    "df = pd.concat((pd.read_csv(f) for f in all_files), ignore_index=True)"
   ]
  },
  {
   "cell_type": "code",
   "execution_count": 10,
   "metadata": {},
   "outputs": [
    {
     "data": {
      "text/html": [
       "<div>\n",
       "<style scoped>\n",
       "    .dataframe tbody tr th:only-of-type {\n",
       "        vertical-align: middle;\n",
       "    }\n",
       "\n",
       "    .dataframe tbody tr th {\n",
       "        vertical-align: top;\n",
       "    }\n",
       "\n",
       "    .dataframe thead th {\n",
       "        text-align: right;\n",
       "    }\n",
       "</style>\n",
       "<table border=\"1\" class=\"dataframe\">\n",
       "  <thead>\n",
       "    <tr style=\"text-align: right;\">\n",
       "      <th></th>\n",
       "      <th>Unnamed: 0.1</th>\n",
       "      <th>Unnamed: 0</th>\n",
       "      <th>book_id</th>\n",
       "      <th>rating</th>\n",
       "      <th>review_text</th>\n",
       "      <th>original_publication_month</th>\n",
       "      <th>text_reviews_count</th>\n",
       "      <th>original_publication_year</th>\n",
       "      <th>original_title</th>\n",
       "      <th>rating_dist</th>\n",
       "      <th>original_publication_day</th>\n",
       "      <th>ratings_count</th>\n",
       "      <th>rev_year</th>\n",
       "      <th>rev_month</th>\n",
       "      <th>month_diff</th>\n",
       "      <th>time_cat</th>\n",
       "      <th>BERT_sent</th>\n",
       "    </tr>\n",
       "  </thead>\n",
       "  <tbody>\n",
       "    <tr>\n",
       "      <th>656966</th>\n",
       "      <td>56960</td>\n",
       "      <td>3565370</td>\n",
       "      <td>12963147</td>\n",
       "      <td>5</td>\n",
       "      <td>In Love in Disguise, Carol Cox skillfully weav...</td>\n",
       "      <td>2</td>\n",
       "      <td>182.0</td>\n",
       "      <td>2013</td>\n",
       "      <td>NaN</td>\n",
       "      <td>5:357|4:473|3:355|2:97|1:37|total:1319</td>\n",
       "      <td>22.0</td>\n",
       "      <td>1319.0</td>\n",
       "      <td>2013.0</td>\n",
       "      <td>6</td>\n",
       "      <td>4</td>\n",
       "      <td>0.50</td>\n",
       "      <td>0.843520</td>\n",
       "    </tr>\n",
       "    <tr>\n",
       "      <th>656967</th>\n",
       "      <td>56961</td>\n",
       "      <td>3565371</td>\n",
       "      <td>13263377</td>\n",
       "      <td>5</td>\n",
       "      <td>Double Exposure by Susan Sleeman is a well-tho...</td>\n",
       "      <td>1</td>\n",
       "      <td>52.0</td>\n",
       "      <td>2012</td>\n",
       "      <td>NaN</td>\n",
       "      <td>5:70|4:81|3:34|2:4|1:2|total:191</td>\n",
       "      <td>1.0</td>\n",
       "      <td>191.0</td>\n",
       "      <td>2013.0</td>\n",
       "      <td>6</td>\n",
       "      <td>17</td>\n",
       "      <td>2.00</td>\n",
       "      <td>0.859995</td>\n",
       "    </tr>\n",
       "    <tr>\n",
       "      <th>656968</th>\n",
       "      <td>56962</td>\n",
       "      <td>3565373</td>\n",
       "      <td>13548195</td>\n",
       "      <td>5</td>\n",
       "      <td>Catherine Miller, the heroine of the story is ...</td>\n",
       "      <td>1</td>\n",
       "      <td>35.0</td>\n",
       "      <td>2012</td>\n",
       "      <td>Navy SEAL Rescuer</td>\n",
       "      <td>5:111|4:93|3:60|2:21|1:2|total:287</td>\n",
       "      <td>1.0</td>\n",
       "      <td>287.0</td>\n",
       "      <td>2013.0</td>\n",
       "      <td>6</td>\n",
       "      <td>17</td>\n",
       "      <td>2.00</td>\n",
       "      <td>0.342013</td>\n",
       "    </tr>\n",
       "    <tr>\n",
       "      <th>656969</th>\n",
       "      <td>56963</td>\n",
       "      <td>3565374</td>\n",
       "      <td>13261268</td>\n",
       "      <td>5</td>\n",
       "      <td>Broken Trust by Sharon Dunn is a romantic susp...</td>\n",
       "      <td>1</td>\n",
       "      <td>21.0</td>\n",
       "      <td>2012</td>\n",
       "      <td>NaN</td>\n",
       "      <td>5:16|4:30|3:13|2:1|1:0|total:60</td>\n",
       "      <td>1.0</td>\n",
       "      <td>60.0</td>\n",
       "      <td>2013.0</td>\n",
       "      <td>6</td>\n",
       "      <td>17</td>\n",
       "      <td>2.00</td>\n",
       "      <td>0.487069</td>\n",
       "    </tr>\n",
       "    <tr>\n",
       "      <th>656970</th>\n",
       "      <td>56964</td>\n",
       "      <td>3565375</td>\n",
       "      <td>16109790</td>\n",
       "      <td>4</td>\n",
       "      <td>The book will appeal to those who enjoy romanc...</td>\n",
       "      <td>6</td>\n",
       "      <td>152.0</td>\n",
       "      <td>2013</td>\n",
       "      <td>Trouble in Store</td>\n",
       "      <td>5:247|4:342|3:226|2:48|1:11|total:874</td>\n",
       "      <td>1.0</td>\n",
       "      <td>874.0</td>\n",
       "      <td>2013.0</td>\n",
       "      <td>7</td>\n",
       "      <td>1</td>\n",
       "      <td>0.25</td>\n",
       "      <td>0.931078</td>\n",
       "    </tr>\n",
       "  </tbody>\n",
       "</table>\n",
       "</div>"
      ],
      "text/plain": [
       "        Unnamed: 0.1  Unnamed: 0   book_id  rating  \\\n",
       "656966         56960     3565370  12963147       5   \n",
       "656967         56961     3565371  13263377       5   \n",
       "656968         56962     3565373  13548195       5   \n",
       "656969         56963     3565374  13261268       5   \n",
       "656970         56964     3565375  16109790       4   \n",
       "\n",
       "                                              review_text  \\\n",
       "656966  In Love in Disguise, Carol Cox skillfully weav...   \n",
       "656967  Double Exposure by Susan Sleeman is a well-tho...   \n",
       "656968  Catherine Miller, the heroine of the story is ...   \n",
       "656969  Broken Trust by Sharon Dunn is a romantic susp...   \n",
       "656970  The book will appeal to those who enjoy romanc...   \n",
       "\n",
       "        original_publication_month  text_reviews_count  \\\n",
       "656966                           2               182.0   \n",
       "656967                           1                52.0   \n",
       "656968                           1                35.0   \n",
       "656969                           1                21.0   \n",
       "656970                           6               152.0   \n",
       "\n",
       "        original_publication_year     original_title  \\\n",
       "656966                       2013                NaN   \n",
       "656967                       2012                NaN   \n",
       "656968                       2012  Navy SEAL Rescuer   \n",
       "656969                       2012                NaN   \n",
       "656970                       2013   Trouble in Store   \n",
       "\n",
       "                                   rating_dist  original_publication_day  \\\n",
       "656966  5:357|4:473|3:355|2:97|1:37|total:1319                      22.0   \n",
       "656967        5:70|4:81|3:34|2:4|1:2|total:191                       1.0   \n",
       "656968      5:111|4:93|3:60|2:21|1:2|total:287                       1.0   \n",
       "656969         5:16|4:30|3:13|2:1|1:0|total:60                       1.0   \n",
       "656970   5:247|4:342|3:226|2:48|1:11|total:874                       1.0   \n",
       "\n",
       "        ratings_count  rev_year  rev_month  month_diff  time_cat  BERT_sent  \n",
       "656966         1319.0    2013.0          6           4      0.50   0.843520  \n",
       "656967          191.0    2013.0          6          17      2.00   0.859995  \n",
       "656968          287.0    2013.0          6          17      2.00   0.342013  \n",
       "656969           60.0    2013.0          6          17      2.00   0.487069  \n",
       "656970          874.0    2013.0          7           1      0.25   0.931078  "
      ]
     },
     "execution_count": 10,
     "metadata": {},
     "output_type": "execute_result"
    }
   ],
   "source": [
    "df.tail()"
   ]
  },
  {
   "cell_type": "code",
   "execution_count": 14,
   "metadata": {},
   "outputs": [
    {
     "data": {
      "text/plain": [
       "Unnamed: 0.2                        0\n",
       "Unnamed: 0.1                        0\n",
       "Unnamed: 0                          0\n",
       "book_id                             0\n",
       "rating                              0\n",
       "review_text                         0\n",
       "original_publication_month          0\n",
       "text_reviews_count                  0\n",
       "original_publication_year           0\n",
       "original_title                1368564\n",
       "rating_dist                         0\n",
       "original_publication_day       106379\n",
       "ratings_count                       0\n",
       "rev_year                            0\n",
       "rev_month                           0\n",
       "month_diff                          0\n",
       "time_cat                       483154\n",
       "BERT_sent                           0\n",
       "dtype: int64"
      ]
     },
     "execution_count": 14,
     "metadata": {},
     "output_type": "execute_result"
    }
   ],
   "source": [
    "df.isnull().sum()"
   ]
  },
  {
   "cell_type": "code",
   "execution_count": 15,
   "metadata": {},
   "outputs": [],
   "source": [
    "df.to_csv('combinedsent.csv')"
   ]
  },
  {
   "cell_type": "code",
   "execution_count": null,
   "metadata": {},
   "outputs": [],
   "source": []
  }
 ],
 "metadata": {
  "kernelspec": {
   "display_name": "Python 3.9.12 ('base')",
   "language": "python",
   "name": "python3"
  },
  "language_info": {
   "codemirror_mode": {
    "name": "ipython",
    "version": 3
   },
   "file_extension": ".py",
   "mimetype": "text/x-python",
   "name": "python",
   "nbconvert_exporter": "python",
   "pygments_lexer": "ipython3",
   "version": "3.9.12"
  },
  "orig_nbformat": 4,
  "vscode": {
   "interpreter": {
    "hash": "dc07d24e2f18896857f0b2a651fe84ba40ce7b297e58d8804a308c8039f752a6"
   }
  }
 },
 "nbformat": 4,
 "nbformat_minor": 2
}
