{
 "cells": [
  {
   "cell_type": "code",
   "execution_count": 37,
   "metadata": {},
   "outputs": [],
   "source": [
    "import pandas as pd\n",
    "from sklearn.preprocessing import MinMaxScaler\n",
    "from scipy.stats import kstest, wilcoxon\n",
    "import matplotlib.pyplot as plt\n",
    "import seaborn as sns"
   ]
  },
  {
   "cell_type": "code",
   "execution_count": 2,
   "metadata": {},
   "outputs": [
    {
     "name": "stderr",
     "output_type": "stream",
     "text": [
      "C:\\Users\\HP\\AppData\\Local\\Temp\\ipykernel_12320\\1244737427.py:1: DtypeWarning: Columns (17) have mixed types. Specify dtype option on import or set low_memory=False.\n",
      "  df = pd.read_csv(r'D:\\Programming\\LHL-data-notes\\Final\\data\\combinedsent.csv')\n"
     ]
    }
   ],
   "source": [
    "df = pd.read_csv(r'D:\\Programming\\LHL-data-notes\\Final\\data\\combinedsent.csv')"
   ]
  },
  {
   "cell_type": "code",
   "execution_count": 3,
   "metadata": {},
   "outputs": [],
   "source": [
    "df.drop(['Unnamed: 0.3','Unnamed: 0.2','Unnamed: 0.1','Unnamed: 0','review_text','original_title','original_publication_day','original_publication_month','rev_year','rev_month'],axis=1, inplace=True)"
   ]
  },
  {
   "cell_type": "code",
   "execution_count": 4,
   "metadata": {},
   "outputs": [
    {
     "data": {
      "text/html": [
       "<div>\n",
       "<style scoped>\n",
       "    .dataframe tbody tr th:only-of-type {\n",
       "        vertical-align: middle;\n",
       "    }\n",
       "\n",
       "    .dataframe tbody tr th {\n",
       "        vertical-align: top;\n",
       "    }\n",
       "\n",
       "    .dataframe thead th {\n",
       "        text-align: right;\n",
       "    }\n",
       "</style>\n",
       "<table border=\"1\" class=\"dataframe\">\n",
       "  <thead>\n",
       "    <tr style=\"text-align: right;\">\n",
       "      <th></th>\n",
       "      <th>book_id</th>\n",
       "      <th>rating</th>\n",
       "      <th>text_reviews_count</th>\n",
       "      <th>original_publication_year</th>\n",
       "      <th>rating_dist</th>\n",
       "      <th>ratings_count</th>\n",
       "      <th>month_diff</th>\n",
       "      <th>time_cat</th>\n",
       "      <th>BERT_sent</th>\n",
       "    </tr>\n",
       "  </thead>\n",
       "  <tbody>\n",
       "    <tr>\n",
       "      <th>0</th>\n",
       "      <td>2767052</td>\n",
       "      <td>5</td>\n",
       "      <td>156575.0</td>\n",
       "      <td>2008</td>\n",
       "      <td>5:2768578|4:1519190|3:577431|2:132128|1:69269|...</td>\n",
       "      <td>5066596.0</td>\n",
       "      <td>102.0</td>\n",
       "      <td>120.0</td>\n",
       "      <td>0.345510</td>\n",
       "    </tr>\n",
       "    <tr>\n",
       "      <th>1</th>\n",
       "      <td>7260188</td>\n",
       "      <td>5</td>\n",
       "      <td>96736.0</td>\n",
       "      <td>2010</td>\n",
       "      <td>5:749202|4:627098|3:378562|2:112136|1:30653|to...</td>\n",
       "      <td>1897651.0</td>\n",
       "      <td>60.0</td>\n",
       "      <td>5.0</td>\n",
       "      <td>0.943165</td>\n",
       "    </tr>\n",
       "    <tr>\n",
       "      <th>2</th>\n",
       "      <td>6148028</td>\n",
       "      <td>5</td>\n",
       "      <td>89071.0</td>\n",
       "      <td>2009</td>\n",
       "      <td>5:992769|4:696715|3:265971|2:48866|1:10703|tot...</td>\n",
       "      <td>2015024.0</td>\n",
       "      <td>71.0</td>\n",
       "      <td>120.0</td>\n",
       "      <td>0.925718</td>\n",
       "    </tr>\n",
       "    <tr>\n",
       "      <th>3</th>\n",
       "      <td>2767052</td>\n",
       "      <td>5</td>\n",
       "      <td>156575.0</td>\n",
       "      <td>2008</td>\n",
       "      <td>5:2768578|4:1519190|3:577431|2:132128|1:69269|...</td>\n",
       "      <td>5066596.0</td>\n",
       "      <td>83.0</td>\n",
       "      <td>120.0</td>\n",
       "      <td>0.965139</td>\n",
       "    </tr>\n",
       "    <tr>\n",
       "      <th>4</th>\n",
       "      <td>13206828</td>\n",
       "      <td>5</td>\n",
       "      <td>20635.0</td>\n",
       "      <td>2014</td>\n",
       "      <td>5:108214|4:59427|3:15611|2:2179|1:910|total:18...</td>\n",
       "      <td>186341.0</td>\n",
       "      <td>43.0</td>\n",
       "      <td>5.0</td>\n",
       "      <td>0.837865</td>\n",
       "    </tr>\n",
       "  </tbody>\n",
       "</table>\n",
       "</div>"
      ],
      "text/plain": [
       "    book_id  rating  text_reviews_count  original_publication_year  \\\n",
       "0   2767052       5            156575.0                       2008   \n",
       "1   7260188       5             96736.0                       2010   \n",
       "2   6148028       5             89071.0                       2009   \n",
       "3   2767052       5            156575.0                       2008   \n",
       "4  13206828       5             20635.0                       2014   \n",
       "\n",
       "                                         rating_dist  ratings_count  \\\n",
       "0  5:2768578|4:1519190|3:577431|2:132128|1:69269|...      5066596.0   \n",
       "1  5:749202|4:627098|3:378562|2:112136|1:30653|to...      1897651.0   \n",
       "2  5:992769|4:696715|3:265971|2:48866|1:10703|tot...      2015024.0   \n",
       "3  5:2768578|4:1519190|3:577431|2:132128|1:69269|...      5066596.0   \n",
       "4  5:108214|4:59427|3:15611|2:2179|1:910|total:18...       186341.0   \n",
       "\n",
       "   month_diff time_cat  BERT_sent  \n",
       "0       102.0    120.0   0.345510  \n",
       "1        60.0      5.0   0.943165  \n",
       "2        71.0    120.0   0.925718  \n",
       "3        83.0    120.0   0.965139  \n",
       "4        43.0      5.0   0.837865  "
      ]
     },
     "execution_count": 4,
     "metadata": {},
     "output_type": "execute_result"
    }
   ],
   "source": [
    "df.head()"
   ]
  },
  {
   "cell_type": "code",
   "execution_count": 5,
   "metadata": {},
   "outputs": [
    {
     "data": {
      "text/html": [
       "<div>\n",
       "<style scoped>\n",
       "    .dataframe tbody tr th:only-of-type {\n",
       "        vertical-align: middle;\n",
       "    }\n",
       "\n",
       "    .dataframe tbody tr th {\n",
       "        vertical-align: top;\n",
       "    }\n",
       "\n",
       "    .dataframe thead th {\n",
       "        text-align: right;\n",
       "    }\n",
       "</style>\n",
       "<table border=\"1\" class=\"dataframe\">\n",
       "  <thead>\n",
       "    <tr style=\"text-align: right;\">\n",
       "      <th></th>\n",
       "      <th>book_id</th>\n",
       "      <th>rating</th>\n",
       "      <th>text_reviews_count</th>\n",
       "      <th>original_publication_year</th>\n",
       "      <th>rating_dist</th>\n",
       "      <th>ratings_count</th>\n",
       "      <th>month_diff</th>\n",
       "      <th>time_cat</th>\n",
       "      <th>BERT_sent</th>\n",
       "    </tr>\n",
       "  </thead>\n",
       "  <tbody>\n",
       "    <tr>\n",
       "      <th>13</th>\n",
       "      <td>13188676</td>\n",
       "      <td>5</td>\n",
       "      <td>12163.0</td>\n",
       "      <td>2014</td>\n",
       "      <td>5:58692|4:22511|3:8742|2:2446|1:1303|total:93694</td>\n",
       "      <td>93694.0</td>\n",
       "      <td>0.0</td>\n",
       "      <td>NaN</td>\n",
       "      <td>0.766337</td>\n",
       "    </tr>\n",
       "    <tr>\n",
       "      <th>34</th>\n",
       "      <td>33807229</td>\n",
       "      <td>4</td>\n",
       "      <td>923.0</td>\n",
       "      <td>2017</td>\n",
       "      <td>5:1614|4:1537|3:964|2:249|1:80|total:4444</td>\n",
       "      <td>4444.0</td>\n",
       "      <td>0.0</td>\n",
       "      <td>NaN</td>\n",
       "      <td>0.471625</td>\n",
       "    </tr>\n",
       "    <tr>\n",
       "      <th>35</th>\n",
       "      <td>33280872</td>\n",
       "      <td>4</td>\n",
       "      <td>2603.0</td>\n",
       "      <td>2017</td>\n",
       "      <td>5:6112|4:4730|3:2673|2:853|1:447|total:14815</td>\n",
       "      <td>14815.0</td>\n",
       "      <td>0.0</td>\n",
       "      <td>NaN</td>\n",
       "      <td>0.587761</td>\n",
       "    </tr>\n",
       "    <tr>\n",
       "      <th>37</th>\n",
       "      <td>28919058</td>\n",
       "      <td>4</td>\n",
       "      <td>517.0</td>\n",
       "      <td>2017</td>\n",
       "      <td>5:1034|4:646|3:136|2:28|1:10|total:1854</td>\n",
       "      <td>1854.0</td>\n",
       "      <td>0.0</td>\n",
       "      <td>NaN</td>\n",
       "      <td>0.962263</td>\n",
       "    </tr>\n",
       "    <tr>\n",
       "      <th>38</th>\n",
       "      <td>29519514</td>\n",
       "      <td>4</td>\n",
       "      <td>3807.0</td>\n",
       "      <td>2016</td>\n",
       "      <td>5:12688|4:10258|3:5197|2:1489|1:492|total:30124</td>\n",
       "      <td>30124.0</td>\n",
       "      <td>0.0</td>\n",
       "      <td>NaN</td>\n",
       "      <td>0.878765</td>\n",
       "    </tr>\n",
       "    <tr>\n",
       "      <th>39</th>\n",
       "      <td>29519517</td>\n",
       "      <td>4</td>\n",
       "      <td>2682.0</td>\n",
       "      <td>2016</td>\n",
       "      <td>5:8649|4:8100|3:4727|2:1440|1:453|total:23369</td>\n",
       "      <td>23369.0</td>\n",
       "      <td>0.0</td>\n",
       "      <td>NaN</td>\n",
       "      <td>0.934712</td>\n",
       "    </tr>\n",
       "    <tr>\n",
       "      <th>40</th>\n",
       "      <td>25912358</td>\n",
       "      <td>4</td>\n",
       "      <td>3141.0</td>\n",
       "      <td>2016</td>\n",
       "      <td>5:8692|4:2971|3:1687|2:749|1:487|total:14586</td>\n",
       "      <td>14586.0</td>\n",
       "      <td>0.0</td>\n",
       "      <td>NaN</td>\n",
       "      <td>0.958636</td>\n",
       "    </tr>\n",
       "    <tr>\n",
       "      <th>41</th>\n",
       "      <td>28678119</td>\n",
       "      <td>4</td>\n",
       "      <td>5894.0</td>\n",
       "      <td>2016</td>\n",
       "      <td>5:20218|4:14391|3:7207|2:2495|1:1736|total:46047</td>\n",
       "      <td>46047.0</td>\n",
       "      <td>0.0</td>\n",
       "      <td>NaN</td>\n",
       "      <td>0.909770</td>\n",
       "    </tr>\n",
       "    <tr>\n",
       "      <th>42</th>\n",
       "      <td>24422492</td>\n",
       "      <td>4</td>\n",
       "      <td>5047.0</td>\n",
       "      <td>2015</td>\n",
       "      <td>5:14504|4:13956|3:6809|2:1348|1:318|total:36935</td>\n",
       "      <td>36935.0</td>\n",
       "      <td>0.0</td>\n",
       "      <td>NaN</td>\n",
       "      <td>0.955857</td>\n",
       "    </tr>\n",
       "    <tr>\n",
       "      <th>43</th>\n",
       "      <td>24378015</td>\n",
       "      <td>5</td>\n",
       "      <td>8588.0</td>\n",
       "      <td>2015</td>\n",
       "      <td>5:23983|4:20604|3:9585|2:2373|1:930|total:57475</td>\n",
       "      <td>57475.0</td>\n",
       "      <td>0.0</td>\n",
       "      <td>NaN</td>\n",
       "      <td>0.956849</td>\n",
       "    </tr>\n",
       "    <tr>\n",
       "      <th>44</th>\n",
       "      <td>22438116</td>\n",
       "      <td>4</td>\n",
       "      <td>330.0</td>\n",
       "      <td>2014</td>\n",
       "      <td>5:889|4:1150|3:576|2:124|1:36|total:2775</td>\n",
       "      <td>2775.0</td>\n",
       "      <td>0.0</td>\n",
       "      <td>NaN</td>\n",
       "      <td>0.972128</td>\n",
       "    </tr>\n",
       "    <tr>\n",
       "      <th>51</th>\n",
       "      <td>12579262</td>\n",
       "      <td>4</td>\n",
       "      <td>139.0</td>\n",
       "      <td>2013</td>\n",
       "      <td>5:176|4:178|3:163|2:60|1:28|total:605</td>\n",
       "      <td>605.0</td>\n",
       "      <td>0.0</td>\n",
       "      <td>NaN</td>\n",
       "      <td>0.946322</td>\n",
       "    </tr>\n",
       "    <tr>\n",
       "      <th>67</th>\n",
       "      <td>18075234</td>\n",
       "      <td>4</td>\n",
       "      <td>2508.0</td>\n",
       "      <td>2015</td>\n",
       "      <td>5:4755|4:4105|3:1714|2:440|1:218|total:11232</td>\n",
       "      <td>11232.0</td>\n",
       "      <td>0.0</td>\n",
       "      <td>NaN</td>\n",
       "      <td>0.798110</td>\n",
       "    </tr>\n",
       "    <tr>\n",
       "      <th>71</th>\n",
       "      <td>18483587</td>\n",
       "      <td>4</td>\n",
       "      <td>42.0</td>\n",
       "      <td>2014</td>\n",
       "      <td>5:16|4:38|3:48|2:27|1:4|total:133</td>\n",
       "      <td>133.0</td>\n",
       "      <td>0.0</td>\n",
       "      <td>NaN</td>\n",
       "      <td>0.916552</td>\n",
       "    </tr>\n",
       "    <tr>\n",
       "      <th>72</th>\n",
       "      <td>13112869</td>\n",
       "      <td>4</td>\n",
       "      <td>1840.0</td>\n",
       "      <td>2013</td>\n",
       "      <td>5:2670|4:4158|3:2504|2:664|1:237|total:10233</td>\n",
       "      <td>10233.0</td>\n",
       "      <td>0.0</td>\n",
       "      <td>NaN</td>\n",
       "      <td>0.470683</td>\n",
       "    </tr>\n",
       "    <tr>\n",
       "      <th>74</th>\n",
       "      <td>17347389</td>\n",
       "      <td>4</td>\n",
       "      <td>11284.0</td>\n",
       "      <td>2013</td>\n",
       "      <td>5:42662|4:32245|3:11341|2:2267|1:840|total:89355</td>\n",
       "      <td>89355.0</td>\n",
       "      <td>0.0</td>\n",
       "      <td>NaN</td>\n",
       "      <td>0.674524</td>\n",
       "    </tr>\n",
       "    <tr>\n",
       "      <th>76</th>\n",
       "      <td>15721624</td>\n",
       "      <td>3</td>\n",
       "      <td>614.0</td>\n",
       "      <td>2013</td>\n",
       "      <td>5:720|4:1161|3:763|2:218|1:107|total:2969</td>\n",
       "      <td>2969.0</td>\n",
       "      <td>0.0</td>\n",
       "      <td>NaN</td>\n",
       "      <td>0.511373</td>\n",
       "    </tr>\n",
       "    <tr>\n",
       "      <th>82</th>\n",
       "      <td>13146312</td>\n",
       "      <td>3</td>\n",
       "      <td>1010.0</td>\n",
       "      <td>2013</td>\n",
       "      <td>5:2036|4:2350|3:1896|2:612|1:177|total:7071</td>\n",
       "      <td>7071.0</td>\n",
       "      <td>0.0</td>\n",
       "      <td>NaN</td>\n",
       "      <td>0.100178</td>\n",
       "    </tr>\n",
       "    <tr>\n",
       "      <th>93</th>\n",
       "      <td>15717943</td>\n",
       "      <td>5</td>\n",
       "      <td>19252.0</td>\n",
       "      <td>2012</td>\n",
       "      <td>5:119985|4:58241|3:23980|2:6866|1:3697|total:2...</td>\n",
       "      <td>212769.0</td>\n",
       "      <td>0.0</td>\n",
       "      <td>NaN</td>\n",
       "      <td>0.895478</td>\n",
       "    </tr>\n",
       "    <tr>\n",
       "      <th>108</th>\n",
       "      <td>34332260</td>\n",
       "      <td>3</td>\n",
       "      <td>171.0</td>\n",
       "      <td>2017</td>\n",
       "      <td>5:74|4:84|3:55|2:23|1:8|total:244</td>\n",
       "      <td>244.0</td>\n",
       "      <td>0.0</td>\n",
       "      <td>NaN</td>\n",
       "      <td>0.845642</td>\n",
       "    </tr>\n",
       "  </tbody>\n",
       "</table>\n",
       "</div>"
      ],
      "text/plain": [
       "      book_id  rating  text_reviews_count  original_publication_year  \\\n",
       "13   13188676       5             12163.0                       2014   \n",
       "34   33807229       4               923.0                       2017   \n",
       "35   33280872       4              2603.0                       2017   \n",
       "37   28919058       4               517.0                       2017   \n",
       "38   29519514       4              3807.0                       2016   \n",
       "39   29519517       4              2682.0                       2016   \n",
       "40   25912358       4              3141.0                       2016   \n",
       "41   28678119       4              5894.0                       2016   \n",
       "42   24422492       4              5047.0                       2015   \n",
       "43   24378015       5              8588.0                       2015   \n",
       "44   22438116       4               330.0                       2014   \n",
       "51   12579262       4               139.0                       2013   \n",
       "67   18075234       4              2508.0                       2015   \n",
       "71   18483587       4                42.0                       2014   \n",
       "72   13112869       4              1840.0                       2013   \n",
       "74   17347389       4             11284.0                       2013   \n",
       "76   15721624       3               614.0                       2013   \n",
       "82   13146312       3              1010.0                       2013   \n",
       "93   15717943       5             19252.0                       2012   \n",
       "108  34332260       3               171.0                       2017   \n",
       "\n",
       "                                           rating_dist  ratings_count  \\\n",
       "13    5:58692|4:22511|3:8742|2:2446|1:1303|total:93694        93694.0   \n",
       "34           5:1614|4:1537|3:964|2:249|1:80|total:4444         4444.0   \n",
       "35        5:6112|4:4730|3:2673|2:853|1:447|total:14815        14815.0   \n",
       "37             5:1034|4:646|3:136|2:28|1:10|total:1854         1854.0   \n",
       "38     5:12688|4:10258|3:5197|2:1489|1:492|total:30124        30124.0   \n",
       "39       5:8649|4:8100|3:4727|2:1440|1:453|total:23369        23369.0   \n",
       "40        5:8692|4:2971|3:1687|2:749|1:487|total:14586        14586.0   \n",
       "41    5:20218|4:14391|3:7207|2:2495|1:1736|total:46047        46047.0   \n",
       "42     5:14504|4:13956|3:6809|2:1348|1:318|total:36935        36935.0   \n",
       "43     5:23983|4:20604|3:9585|2:2373|1:930|total:57475        57475.0   \n",
       "44            5:889|4:1150|3:576|2:124|1:36|total:2775         2775.0   \n",
       "51               5:176|4:178|3:163|2:60|1:28|total:605          605.0   \n",
       "67        5:4755|4:4105|3:1714|2:440|1:218|total:11232        11232.0   \n",
       "71                   5:16|4:38|3:48|2:27|1:4|total:133          133.0   \n",
       "72        5:2670|4:4158|3:2504|2:664|1:237|total:10233        10233.0   \n",
       "74    5:42662|4:32245|3:11341|2:2267|1:840|total:89355        89355.0   \n",
       "76           5:720|4:1161|3:763|2:218|1:107|total:2969         2969.0   \n",
       "82         5:2036|4:2350|3:1896|2:612|1:177|total:7071         7071.0   \n",
       "93   5:119985|4:58241|3:23980|2:6866|1:3697|total:2...       212769.0   \n",
       "108                  5:74|4:84|3:55|2:23|1:8|total:244          244.0   \n",
       "\n",
       "     month_diff time_cat  BERT_sent  \n",
       "13          0.0      NaN   0.766337  \n",
       "34          0.0      NaN   0.471625  \n",
       "35          0.0      NaN   0.587761  \n",
       "37          0.0      NaN   0.962263  \n",
       "38          0.0      NaN   0.878765  \n",
       "39          0.0      NaN   0.934712  \n",
       "40          0.0      NaN   0.958636  \n",
       "41          0.0      NaN   0.909770  \n",
       "42          0.0      NaN   0.955857  \n",
       "43          0.0      NaN   0.956849  \n",
       "44          0.0      NaN   0.972128  \n",
       "51          0.0      NaN   0.946322  \n",
       "67          0.0      NaN   0.798110  \n",
       "71          0.0      NaN   0.916552  \n",
       "72          0.0      NaN   0.470683  \n",
       "74          0.0      NaN   0.674524  \n",
       "76          0.0      NaN   0.511373  \n",
       "82          0.0      NaN   0.100178  \n",
       "93          0.0      NaN   0.895478  \n",
       "108         0.0      NaN   0.845642  "
      ]
     },
     "execution_count": 5,
     "metadata": {},
     "output_type": "execute_result"
    }
   ],
   "source": [
    "df1 = df[df.isna().any(axis=1)]\n",
    "df1.head(20)"
   ]
  },
  {
   "cell_type": "code",
   "execution_count": 8,
   "metadata": {},
   "outputs": [],
   "source": [
    "df.to_csv('data/data_relevant.csv')"
   ]
  },
  {
   "cell_type": "code",
   "execution_count": 9,
   "metadata": {},
   "outputs": [],
   "source": [
    "df = pd.read_csv(r'D:\\Programming\\LHL-data-notes\\Final\\data\\data_relevant.csv')"
   ]
  },
  {
   "cell_type": "code",
   "execution_count": 10,
   "metadata": {},
   "outputs": [],
   "source": [
    "# get rid of everything except the variables. Max min is appropriate.\n",
    "# Both variables are measuring sentiment so they are directly comparible\n",
    "# Likert scales can be considered continuous\n",
    "# max min scales INDIVIDUALLY around the variance while keeping the distances consistent\n",
    "# unlike standard scalar which adds space at the polar values\n",
    "df_rs_compare = df[['rating','BERT_sent']]"
   ]
  },
  {
   "cell_type": "code",
   "execution_count": 11,
   "metadata": {},
   "outputs": [],
   "source": [
    "# drop zeros because that means they didn't rate it\n",
    "df_rs_compare = df_rs_compare.loc[(df_rs_compare[['rating']] != 0).all(axis=1)]"
   ]
  },
  {
   "cell_type": "code",
   "execution_count": 12,
   "metadata": {},
   "outputs": [
    {
     "data": {
      "text/html": [
       "<div>\n",
       "<style scoped>\n",
       "    .dataframe tbody tr th:only-of-type {\n",
       "        vertical-align: middle;\n",
       "    }\n",
       "\n",
       "    .dataframe tbody tr th {\n",
       "        vertical-align: top;\n",
       "    }\n",
       "\n",
       "    .dataframe thead th {\n",
       "        text-align: right;\n",
       "    }\n",
       "</style>\n",
       "<table border=\"1\" class=\"dataframe\">\n",
       "  <thead>\n",
       "    <tr style=\"text-align: right;\">\n",
       "      <th></th>\n",
       "      <th>rating</th>\n",
       "      <th>BERT_sent</th>\n",
       "    </tr>\n",
       "  </thead>\n",
       "  <tbody>\n",
       "    <tr>\n",
       "      <th>count</th>\n",
       "      <td>3.937189e+06</td>\n",
       "      <td>3.937189e+06</td>\n",
       "    </tr>\n",
       "    <tr>\n",
       "      <th>mean</th>\n",
       "      <td>3.962227e+00</td>\n",
       "      <td>6.991297e-01</td>\n",
       "    </tr>\n",
       "    <tr>\n",
       "      <th>std</th>\n",
       "      <td>1.050085e+00</td>\n",
       "      <td>2.713558e-01</td>\n",
       "    </tr>\n",
       "    <tr>\n",
       "      <th>min</th>\n",
       "      <td>1.000000e+00</td>\n",
       "      <td>1.825065e-02</td>\n",
       "    </tr>\n",
       "    <tr>\n",
       "      <th>25%</th>\n",
       "      <td>3.000000e+00</td>\n",
       "      <td>5.130926e-01</td>\n",
       "    </tr>\n",
       "    <tr>\n",
       "      <th>50%</th>\n",
       "      <td>4.000000e+00</td>\n",
       "      <td>8.090196e-01</td>\n",
       "    </tr>\n",
       "    <tr>\n",
       "      <th>75%</th>\n",
       "      <td>5.000000e+00</td>\n",
       "      <td>9.257182e-01</td>\n",
       "    </tr>\n",
       "    <tr>\n",
       "      <th>max</th>\n",
       "      <td>5.000000e+00</td>\n",
       "      <td>9.869946e-01</td>\n",
       "    </tr>\n",
       "  </tbody>\n",
       "</table>\n",
       "</div>"
      ],
      "text/plain": [
       "             rating     BERT_sent\n",
       "count  3.937189e+06  3.937189e+06\n",
       "mean   3.962227e+00  6.991297e-01\n",
       "std    1.050085e+00  2.713558e-01\n",
       "min    1.000000e+00  1.825065e-02\n",
       "25%    3.000000e+00  5.130926e-01\n",
       "50%    4.000000e+00  8.090196e-01\n",
       "75%    5.000000e+00  9.257182e-01\n",
       "max    5.000000e+00  9.869946e-01"
      ]
     },
     "execution_count": 12,
     "metadata": {},
     "output_type": "execute_result"
    }
   ],
   "source": [
    "df_rs_compare.describe()"
   ]
  },
  {
   "cell_type": "code",
   "execution_count": 13,
   "metadata": {},
   "outputs": [],
   "source": [
    "scaler = MinMaxScaler()\n",
    "scaler.fit(df_rs_compare)\n",
    "rs_compare = scaler.transform(df_rs_compare)"
   ]
  },
  {
   "cell_type": "code",
   "execution_count": 14,
   "metadata": {},
   "outputs": [],
   "source": [
    "scaled_compare_df = pd.DataFrame(rs_compare, index=df_rs_compare.index, columns=df_rs_compare.columns)"
   ]
  },
  {
   "cell_type": "code",
   "execution_count": 15,
   "metadata": {},
   "outputs": [
    {
     "data": {
      "text/html": [
       "<div>\n",
       "<style scoped>\n",
       "    .dataframe tbody tr th:only-of-type {\n",
       "        vertical-align: middle;\n",
       "    }\n",
       "\n",
       "    .dataframe tbody tr th {\n",
       "        vertical-align: top;\n",
       "    }\n",
       "\n",
       "    .dataframe thead th {\n",
       "        text-align: right;\n",
       "    }\n",
       "</style>\n",
       "<table border=\"1\" class=\"dataframe\">\n",
       "  <thead>\n",
       "    <tr style=\"text-align: right;\">\n",
       "      <th></th>\n",
       "      <th>rating</th>\n",
       "      <th>BERT_sent</th>\n",
       "    </tr>\n",
       "  </thead>\n",
       "  <tbody>\n",
       "    <tr>\n",
       "      <th>0</th>\n",
       "      <td>1.0</td>\n",
       "      <td>0.337818</td>\n",
       "    </tr>\n",
       "    <tr>\n",
       "      <th>1</th>\n",
       "      <td>1.0</td>\n",
       "      <td>0.954757</td>\n",
       "    </tr>\n",
       "    <tr>\n",
       "      <th>2</th>\n",
       "      <td>1.0</td>\n",
       "      <td>0.936747</td>\n",
       "    </tr>\n",
       "    <tr>\n",
       "      <th>3</th>\n",
       "      <td>1.0</td>\n",
       "      <td>0.977440</td>\n",
       "    </tr>\n",
       "    <tr>\n",
       "      <th>4</th>\n",
       "      <td>1.0</td>\n",
       "      <td>0.846058</td>\n",
       "    </tr>\n",
       "  </tbody>\n",
       "</table>\n",
       "</div>"
      ],
      "text/plain": [
       "   rating  BERT_sent\n",
       "0     1.0   0.337818\n",
       "1     1.0   0.954757\n",
       "2     1.0   0.936747\n",
       "3     1.0   0.977440\n",
       "4     1.0   0.846058"
      ]
     },
     "execution_count": 15,
     "metadata": {},
     "output_type": "execute_result"
    }
   ],
   "source": [
    "scaled_compare_df.head()"
   ]
  },
  {
   "cell_type": "code",
   "execution_count": 16,
   "metadata": {},
   "outputs": [
    {
     "name": "stdout",
     "output_type": "stream",
     "text": [
      "0.5938781187392758 0.0\n",
      "0.5068080708919175 0.0\n"
     ]
    }
   ],
   "source": [
    "# Should we do a paired t-test(need normal-ish distribution) or a Wilcoxin sign rank?\n",
    "# Check for normality\n",
    "\n",
    "ks_statistic, p_value = kstest(scaled_compare_df.rating, 'norm')\n",
    "print(ks_statistic, p_value)\n",
    "\n",
    "ks_statistic2, p_value2 = kstest(scaled_compare_df.BERT_sent, 'norm')\n",
    "print(ks_statistic2, p_value2)"
   ]
  },
  {
   "cell_type": "code",
   "execution_count": 17,
   "metadata": {},
   "outputs": [
    {
     "name": "stderr",
     "output_type": "stream",
     "text": [
      "c:\\Users\\HP\\anaconda3\\lib\\site-packages\\seaborn\\distributions.py:2619: FutureWarning: `distplot` is a deprecated function and will be removed in a future version. Please adapt your code to use either `displot` (a figure-level function with similar flexibility) or `histplot` (an axes-level function for histograms).\n",
      "  warnings.warn(msg, FutureWarning)\n",
      "c:\\Users\\HP\\anaconda3\\lib\\site-packages\\seaborn\\distributions.py:2103: FutureWarning: The `axis` variable is no longer used and will be removed. Instead, assign variables directly to `x` or `y`.\n",
      "  warnings.warn(msg, FutureWarning)\n"
     ]
    },
    {
     "data": {
      "text/plain": [
       "Text(0.5, 1.0, 'Rating distribution')"
      ]
     },
     "execution_count": 17,
     "metadata": {},
     "output_type": "execute_result"
    },
    {
     "data": {
      "image/png": "[encoded data removed]",
      "text/plain": [
       "<Figure size 432x288 with 1 Axes>"
      ]
     },
     "metadata": {
      "needs_background": "light"
     },
     "output_type": "display_data"
    }
   ],
   "source": [
    "#Histogram\n",
    "\n",
    "sns.distplot(scaled_compare_df.rating,rug=True).set_title('Rating distribution')"
   ]
  },
  {
   "cell_type": "code",
   "execution_count": 18,
   "metadata": {},
   "outputs": [
    {
     "name": "stderr",
     "output_type": "stream",
     "text": [
      "c:\\Users\\HP\\anaconda3\\lib\\site-packages\\seaborn\\distributions.py:2619: FutureWarning: `distplot` is a deprecated function and will be removed in a future version. Please adapt your code to use either `displot` (a figure-level function with similar flexibility) or `histplot` (an axes-level function for histograms).\n",
      "  warnings.warn(msg, FutureWarning)\n",
      "c:\\Users\\HP\\anaconda3\\lib\\site-packages\\seaborn\\distributions.py:2103: FutureWarning: The `axis` variable is no longer used and will be removed. Instead, assign variables directly to `x` or `y`.\n",
      "  warnings.warn(msg, FutureWarning)\n"
     ]
    },
    {
     "data": {
      "text/plain": [
       "Text(0.5, 1.0, 'Sentiment distribution')"
      ]
     },
     "execution_count": 18,
     "metadata": {},
     "output_type": "execute_result"
    },
    {
     "data": {
      "image/png": "[encoded data removed]",
      "text/plain": [
       "<Figure size 432x288 with 1 Axes>"
      ]
     },
     "metadata": {
      "needs_background": "light"
     },
     "output_type": "display_data"
    }
   ],
   "source": [
    "sns.distplot(scaled_compare_df.BERT_sent, bins=20, rug=True).set_title('Sentiment distribution')"
   ]
  },
  {
   "cell_type": "code",
   "execution_count": 19,
   "metadata": {},
   "outputs": [
    {
     "data": {
      "text/plain": [
       "WilcoxonResult(statistic=3438645611209.5, pvalue=0.0)"
      ]
     },
     "execution_count": 19,
     "metadata": {},
     "output_type": "execute_result"
    }
   ],
   "source": [
    "# Definitely not normally distributed! Let's use the wilcoxen sign ranked\n",
    "wilcoxon(x=scaled_compare_df.rating, y=scaled_compare_df.BERT_sent, zero_method='wilcox', correction=False)"
   ]
  },
  {
   "cell_type": "code",
   "execution_count": null,
   "metadata": {},
   "outputs": [],
   "source": [
    "# pvalue = 0.0 so reviewer's median sentiments definitely do not match their star rating!\n",
    "# examples needed to show why this is correct."
   ]
  },
  {
   "cell_type": "code",
   "execution_count": 20,
   "metadata": {},
   "outputs": [],
   "source": [
    "# Let's also look at how correlated the ratings are to the sentiments\n",
    "import scipy.stats"
   ]
  },
  {
   "cell_type": "code",
   "execution_count": 21,
   "metadata": {},
   "outputs": [
    {
     "data": {
      "text/plain": [
       "(0.37651339747486234, 0.0)"
      ]
     },
     "execution_count": 21,
     "metadata": {},
     "output_type": "execute_result"
    }
   ],
   "source": [
    "scipy.stats.pearsonr(x=scaled_compare_df.rating, y=scaled_compare_df.BERT_sent)\n",
    "# The correaltion (pearson's r value) is 0.37, so there is a positive correalation,\n",
    "#  but the p value is 0.0, so this correaltion is not statistically significant"
   ]
  },
  {
   "cell_type": "code",
   "execution_count": 23,
   "metadata": {},
   "outputs": [
    {
     "data": {
      "text/plain": [
       "SpearmanrResult(correlation=0.35004039572456574, pvalue=0.0)"
      ]
     },
     "execution_count": 23,
     "metadata": {},
     "output_type": "execute_result"
    }
   ],
   "source": [
    "# Spearman's will tell you if things are ranked the same. I.e. is the comparitive ranki\n",
    "scipy.stats.spearmanr(scaled_compare_df.rating, scaled_compare_df.BERT_sent)"
   ]
  },
  {
   "cell_type": "code",
   "execution_count": 24,
   "metadata": {},
   "outputs": [
    {
     "name": "stderr",
     "output_type": "stream",
     "text": [
      "c:\\Users\\HP\\anaconda3\\lib\\site-packages\\scipy\\stats\\stats.py:4812: RuntimeWarning: overflow encountered in longlong_scalars\n",
      "  (2 * xtie * ytie) / m + x0 * y0 / (9 * m * (size - 2)))\n"
     ]
    },
    {
     "data": {
      "text/plain": [
       "KendalltauResult(correlation=0.2693828524993092, pvalue=0.0)"
      ]
     },
     "execution_count": 24,
     "metadata": {},
     "output_type": "execute_result"
    }
   ],
   "source": [
    "# The Kendall correlation coefficient compares the number of concordant and discordant pairs of data.\n",
    "scipy.stats.kendalltau(x=scaled_compare_df.rating, y=scaled_compare_df.BERT_sent)"
   ]
  },
  {
   "cell_type": "code",
   "execution_count": 26,
   "metadata": {},
   "outputs": [
    {
     "data": {
      "text/plain": [
       "SpearmanrResult(correlation=1.0, pvalue=0.0)"
      ]
     },
     "execution_count": 26,
     "metadata": {},
     "output_type": "execute_result"
    }
   ],
   "source": [
    "scipy.stats.spearmanr(scaled_compare_df.rating, scaled_compare_df.rating)"
   ]
  },
  {
   "cell_type": "code",
   "execution_count": 30,
   "metadata": {},
   "outputs": [
    {
     "data": {
      "text/plain": [
       "0.0"
      ]
     },
     "execution_count": 30,
     "metadata": {},
     "output_type": "execute_result"
    }
   ],
   "source": [
    "scipy.stats.kendalltau(scaled_compare_df.rating, scaled_compare_df.BERT_sent)[1]"
   ]
  },
  {
   "cell_type": "code",
   "execution_count": 31,
   "metadata": {},
   "outputs": [],
   "source": [
    "import numpy as np\n",
    "from sklearn.linear_model import LinearRegression"
   ]
  },
  {
   "cell_type": "code",
   "execution_count": 32,
   "metadata": {},
   "outputs": [],
   "source": [
    "X = scaled_compare_df.iloc[:, 0].values.reshape(-1, 1)\n",
    "Y = scaled_compare_df.iloc[:, 1].values.reshape(-1, 1)"
   ]
  },
  {
   "cell_type": "code",
   "execution_count": 33,
   "metadata": {},
   "outputs": [],
   "source": [
    "model = LinearRegression()"
   ]
  },
  {
   "cell_type": "code",
   "execution_count": 39,
   "metadata": {},
   "outputs": [
    {
     "data": {
      "text/plain": [
       "LinearRegression()"
      ]
     },
     "execution_count": 39,
     "metadata": {},
     "output_type": "execute_result"
    }
   ],
   "source": [
    "model.fit(Y, X)"
   ]
  },
  {
   "cell_type": "code",
   "execution_count": 40,
   "metadata": {},
   "outputs": [],
   "source": [
    "X_pred = model.predict(Y)"
   ]
  },
  {
   "cell_type": "code",
   "execution_count": 41,
   "metadata": {},
   "outputs": [
    {
     "data": {
      "image/png": "[encoded data removed]",
      "text/plain": [
       "<Figure size 432x288 with 1 Axes>"
      ]
     },
     "metadata": {
      "needs_background": "light"
     },
     "output_type": "display_data"
    }
   ],
   "source": [
    "plt.scatter(Y, X)\n",
    "plt.plot(Y, X_pred, color='red')\n",
    "plt.show()"
   ]
  },
  {
   "cell_type": "code",
   "execution_count": null,
   "metadata": {},
   "outputs": [],
   "source": []
  }
 ],
 "metadata": {
  "kernelspec": {
   "display_name": "Python 3.9.12 ('base')",
   "language": "python",
   "name": "python3"
  },
  "language_info": {
   "codemirror_mode": {
    "name": "ipython",
    "version": 3
   },
   "file_extension": ".py",
   "mimetype": "text/x-python",
   "name": "python",
   "nbconvert_exporter": "python",
   "pygments_lexer": "ipython3",
   "version": "3.9.12"
  },
  "orig_nbformat": 4,
  "vscode": {
   "interpreter": {
    "hash": "dc07d24e2f18896857f0b2a651fe84ba40ce7b297e58d8804a308c8039f752a6"
   }
  }
 },
 "nbformat": 4,
 "nbformat_minor": 2
}
